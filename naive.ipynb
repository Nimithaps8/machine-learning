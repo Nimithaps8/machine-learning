{
 "cells": [
  {
   "cell_type": "code",
   "execution_count": 1,
   "id": "36cb4021-52f1-4b72-b7c4-3020af083b38",
   "metadata": {},
   "outputs": [],
   "source": [
    "import pandas as pd\n",
    "import numpy as np\n",
    "from sklearn.model_selection import train_test_split as tts"
   ]
  },
  {
   "cell_type": "code",
   "execution_count": 3,
   "id": "327c5776-370d-4300-bfd7-5217b06a40fc",
   "metadata": {},
   "outputs": [],
   "source": [
    "class NaiveBayes:\n",
    "    def fit(self, x, y):\n",
    "        n_samples, n_features = x.shape\n",
    "        self._classes = np.unique(y)\n",
    "        n_classes = len(self._classes)\n",
    "\n",
    "        # Calculate mean, var, and prior for each class\n",
    "        self._mean = np.zeros((n_classes, n_features), dtype=np.float64)\n",
    "        self._var = np.zeros((n_classes, n_features), dtype=np.float64)\n",
    "        self._priors = np.zeros(n_classes, dtype=np.float64)\n",
    "\n",
    "        for idx, c in enumerate(self._classes):\n",
    "            x_c = x[y == c]\n",
    "            self._mean[idx, :] = x_c.mean(axis=0)\n",
    "            self._var[idx, :] = x_c.var(axis=0)\n",
    "            self._priors[idx] = x_c.shape[0] / float(n_samples)\n",
    "\n",
    "    def predict(self, x):\n",
    "        y_pred = [self._predict(sample) for sample in x]\n",
    "        return np.array(y_pred)\n",
    "\n",
    "    def _predict(self, x):\n",
    "        posteriors = []\n",
    "\n",
    "        # Calculate posterior probability for each class\n",
    "        for idx, c in enumerate(self._classes):\n",
    "            prior = np.log(self._priors[idx])\n",
    "            class_conditionals = np.sum(np.log(self._pdf(idx, x)))\n",
    "            posterior = prior + class_conditionals\n",
    "            posteriors.append(posterior)\n",
    "\n",
    "        # Return class with the highest posterior probability\n",
    "        return self._classes[np.argmax(posteriors)]\n",
    "\n",
    "    def _pdf(self, class_idx, x):\n",
    "        mean = self._mean[class_idx]\n",
    "        var = self._var[class_idx]\n",
    "        numerator = np.exp(-((x - mean) ** 2) / (2 * var))\n",
    "        denominator = np.sqrt(2 * np.pi * var)\n",
    "        return numerator / denominator\n",
    "\n",
    "# Testing\n",
    "if __name__ == \"__main__\":\n",
    "    from sklearn.model_selection import train_test_split as tts\n",
    "    from sklearn.metrics import confusion_matrix, classification_report\n",
    "    import pandas as pd\n",
    "\n",
    "    def accuracy(y_true, y_pred):\n",
    "        accuracy = np.sum(y_true == y_pred) / len(y_true)\n",
    "        return accuracy\n",
    "\n",
    "   "
   ]
  },
  {
   "cell_type": "code",
   "execution_count": 6,
   "id": "cb3ef8b0-6826-4adb-9a49-8846fa0be578",
   "metadata": {},
   "outputs": [
    {
     "name": "stdout",
     "output_type": "stream",
     "text": [
      "NAIVE BAYES CLASSIFIER\n",
      "ACCURACY FOR TEST SET: 0.7792207792207793\n",
      "\n",
      "CONFUSION MATRIX\n",
      "\n",
      "\n",
      "              predicted_diabetes  predicted_healthy\n",
      "Has_diabetes                  30                 20\n",
      "Is_healthy                    14                 90 \n",
      "\n",
      "\n",
      "CLASSIFICATION REPORT\n",
      "              precision    recall  f1-score   support\n",
      "\n",
      "         0.0       0.82      0.87      0.84       104\n",
      "         1.0       0.68      0.60      0.64        50\n",
      "\n",
      "    accuracy                           0.78       154\n",
      "   macro avg       0.75      0.73      0.74       154\n",
      "weighted avg       0.77      0.78      0.78       154\n",
      "\n"
     ]
    }
   ],
   "source": [
    "df = pd.read_csv(\"diabetes.csv\")\n",
    "df = df.sample(frac=1)\n",
    "data = np.array(df)\n",
    "x = data[:, 0:8]\n",
    "y = data[:, 8]\n",
    "x_train, x_test, y_train, y_test = tts(x, y, test_size=0.2)\n",
    "nb = NaiveBayes()\n",
    "nb.fit(x_train, y_train)\n",
    "predictions = nb.predict(x_test)\n",
    "\n",
    "print(\"NAIVE BAYES CLASSIFIER\")\n",
    "print(\"ACCURACY FOR TEST SET:\", accuracy(y_test, predictions))\n",
    "\n",
    "print(\"\\nCONFUSION MATRIX\")\n",
    "cm = np.array(confusion_matrix(y_test, predictions, labels=[1, 0]))\n",
    "confusion = pd.DataFrame(\n",
    "        cm, index=[\"Has_diabetes\", \"Is_healthy\"], columns=[\"predicted_diabetes\", \"predicted_healthy\"]\n",
    "    )\n",
    "\n",
    "print(\"\\n\")\n",
    "print(confusion, \"\\n\\n\")\n",
    "print(\"CLASSIFICATION REPORT\")\n",
    "print(classification_report(y_test, predictions))\n"
   ]
  },
  {
   "cell_type": "code",
   "execution_count": null,
   "id": "b13f1fde-9493-40d3-8d3c-1d829090a193",
   "metadata": {},
   "outputs": [],
   "source": []
  }
 ],
 "metadata": {
  "kernelspec": {
   "display_name": "Python 3 (ipykernel)",
   "language": "python",
   "name": "python3"
  },
  "language_info": {
   "codemirror_mode": {
    "name": "ipython",
    "version": 3
   },
   "file_extension": ".py",
   "mimetype": "text/x-python",
   "name": "python",
   "nbconvert_exporter": "python",
   "pygments_lexer": "ipython3",
   "version": "3.11.5"
  }
 },
 "nbformat": 4,
 "nbformat_minor": 5
}
